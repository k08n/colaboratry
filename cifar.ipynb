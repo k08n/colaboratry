{
  "nbformat": 4,
  "nbformat_minor": 0,
  "metadata": {
    "colab": {
      "name": "cifar.ipynb",
      "version": "0.3.2",
      "provenance": [],
      "include_colab_link": true
    },
    "kernelspec": {
      "name": "python3",
      "display_name": "Python 3"
    },
    "accelerator": "GPU"
  },
  "cells": [
    {
      "cell_type": "markdown",
      "metadata": {
        "id": "view-in-github",
        "colab_type": "text"
      },
      "source": [
        "<a href=\"https://colab.research.google.com/github/k08n/colaboratry/blob/master/cifar.ipynb\" target=\"_parent\"><img src=\"https://colab.research.google.com/assets/colab-badge.svg\" alt=\"Open In Colab\"/></a>"
      ]
    },
    {
      "metadata": {
        "id": "zKu8YLDxOCVn",
        "colab_type": "code",
        "colab": {}
      },
      "cell_type": "code",
      "source": [
        "# RNNを利用した時系列データ予測\n",
        "\n",
        "%matplotlib inline\n",
        "import numpy as np \n",
        "import matplotlib.pyplot as plt\n",
        "import math, random\n",
        "\n",
        "import keras\n",
        "from keras.models import Sequential\n",
        "from keras.layers.core import Dense, Dropout, Activation\n",
        "from keras.layers.recurrent import LSTM, GRU, SimpleRNN"
      ],
      "execution_count": 0,
      "outputs": []
    },
    {
      "metadata": {
        "id": "16KCXroKO6wD",
        "colab_type": "code",
        "colab": {}
      },
      "cell_type": "code",
      "source": [
        "# 時系列データの設定\n",
        "noise_sigma = 0.08       # ノイズの標準偏差\n",
        "steps_per_cycle = 80     # サイクルあたりのステップ数\n",
        "number_of_cycles = 50    # 生成するサイクル数\n",
        "\n",
        "# データ系列を作成\n",
        "series = []\n",
        "for t in range(steps_per_cycle * number_of_cycles + 1):\n",
        "    d = 0.5*math.sin(t * (2*math.pi/steps_per_cycle)) + 0.5*math.cos(t*3 * (2*math.pi/steps_per_cycle)) + random.gauss(0, noise_sigma)\n",
        "    series.append([d])\n",
        "\n",
        "# 2サイクル分のグラフ表示\n",
        "plt.plot(series[0:steps_per_cycle*2])    \n",
        "plt.show()"
      ],
      "execution_count": 0,
      "outputs": []
    },
    {
      "metadata": {
        "id": "sSyh5L4-O-pe",
        "colab_type": "code",
        "colab": {}
      },
      "cell_type": "code",
      "source": [
        "# 入力データ, 正解データを作成\n",
        "n_prev = 100      # 入力データ長\n",
        "t_prev = 0        # 何サンプル先を予測するか　(0:次のサンプル)\n",
        "\n",
        "X, Y = [], []\n",
        "for i in range(len(series)-n_prev-t_prev):\n",
        "    X.append(series[i:i+n_prev])        # 入力データ: i番目からi+n_prev-1番目のデータ\n",
        "    Y.append(series[i+n_prev+t_prev])   # 正解データ\n",
        "\n",
        "X = np.array(X)\n",
        "Y = np.array(Y)\n",
        "print(X.shape, Y.shape)"
      ],
      "execution_count": 0,
      "outputs": []
    },
    {
      "metadata": {
        "id": "uQlMqXUPPAsV",
        "colab_type": "code",
        "colab": {}
      },
      "cell_type": "code",
      "source": [
        "# 訓練データと評価用データを分割\n",
        "train_ratio = 0.9           # 訓練データの割合\n",
        "\n",
        "split_pos = int( len(X) * train_ratio )     # 分割位置\n",
        "X_train = X[0:split_pos]\n",
        "Y_train = Y[0:split_pos]\n",
        "X_test = X[split_pos:]\n",
        "Y_test = Y[split_pos:]\n",
        "\n",
        "print('X_train shape: ', X_train.shape )\n",
        "print('Y_train shape: ', Y_train.shape )\n",
        "print('X_test shape: ',  X_test.shape )\n",
        "print('Y_test shape: ', Y_test.shape )"
      ],
      "execution_count": 0,
      "outputs": []
    },
    {
      "metadata": {
        "id": "uS0XiJ16PCHE",
        "colab_type": "code",
        "colab": {}
      },
      "cell_type": "code",
      "source": [
        "# モデル作成\n",
        "model = Sequential()  \n",
        "model.add(SimpleRNN(15, input_shape=(None, 1), return_sequences=False)) \n",
        "model.add(Activation('relu'))\n",
        "model.add(Dense(1, activation='linear'))  \n",
        "\n",
        "model.summary()"
      ],
      "execution_count": 0,
      "outputs": []
    },
    {
      "metadata": {
        "id": "WbO1N2q1PEE6",
        "colab_type": "code",
        "colab": {}
      },
      "cell_type": "code",
      "source": [
        "# 学習パラメータの設定\n",
        "model.compile(loss=\"mean_squared_error\", optimizer=\"adam\")\n",
        "\n",
        "# モデルの学習\n",
        "batch_size = 50         # バッチサイズ\n",
        "epochs = 15           # エポック数\n",
        "history = model.fit(X_train, Y_train,\n",
        "                    batch_size=batch_size, epochs=epochs,\n",
        "                    validation_data=(X_test, Y_test))"
      ],
      "execution_count": 0,
      "outputs": []
    },
    {
      "metadata": {
        "id": "0sFXLZK1PHtH",
        "colab_type": "code",
        "colab": {}
      },
      "cell_type": "code",
      "source": [
        "# 学習結果の評価\n",
        "loss = model.evaluate(X_test, Y_test, verbose=0)\n",
        "print('Test loss:', loss)\n",
        "\n",
        "# 学習誤差グラフ\n",
        "plt.plot(history.history['loss'], label=\"loss\")\n",
        "plt.plot(history.history['val_loss'], label=\"val_loss\")\n",
        "plt.yscale('log')\n",
        "plt.legend()\n",
        "plt.xlabel('epoch')\n",
        "plt.show()"
      ],
      "execution_count": 0,
      "outputs": []
    },
    {
      "metadata": {
        "id": "HlhECU_NPJWj",
        "colab_type": "code",
        "colab": {}
      },
      "cell_type": "code",
      "source": [
        "# 元データと予測結果のグラフ表示\n",
        "Y_predicted = model.predict(X_test)\n",
        "\n",
        "plt.plot(Y_test[0:steps_per_cycle*2], label=\"Y_test\")\n",
        "plt.plot(Y_predicted[0:steps_per_cycle*2], label=\"Y_predicted\")\n",
        "plt.legend()\n",
        "plt.show()"
      ],
      "execution_count": 0,
      "outputs": []
    }
  ]
}